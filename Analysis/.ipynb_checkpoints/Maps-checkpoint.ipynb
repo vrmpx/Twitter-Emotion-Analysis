{
 "cells": [
  {
   "cell_type": "code",
   "execution_count": 2,
   "metadata": {
    "collapsed": false
   },
   "outputs": [],
   "source": [
    "from matplotlib import pylab\n",
    "import matplotlib.pyplot as plt\n",
    "import matplotlib.image as mpimg\n",
    "from mpl_toolkits.basemap import Basemap as Basemap"
   ]
  },
  {
   "cell_type": "code",
   "execution_count": 3,
   "metadata": {
    "collapsed": true
   },
   "outputs": [],
   "source": [
    "import pandas as pd"
   ]
  },
  {
   "cell_type": "code",
   "execution_count": 5,
   "metadata": {
    "collapsed": false
   },
   "outputs": [
    {
     "data": {
      "text/html": [
       "<div>\n",
       "<table border=\"1\" class=\"dataframe\">\n",
       "  <thead>\n",
       "    <tr style=\"text-align: right;\">\n",
       "      <th></th>\n",
       "      <th>us_valence</th>\n",
       "      <th>us_arousal</th>\n",
       "      <th>mx_valence</th>\n",
       "      <th>mx_arousal</th>\n",
       "    </tr>\n",
       "    <tr>\n",
       "      <th>date</th>\n",
       "      <th></th>\n",
       "      <th></th>\n",
       "      <th></th>\n",
       "      <th></th>\n",
       "    </tr>\n",
       "  </thead>\n",
       "  <tbody>\n",
       "    <tr>\n",
       "      <th>2014-01-01 00:00:00</th>\n",
       "      <td>2.988962</td>\n",
       "      <td>2.354228</td>\n",
       "      <td>2.720881</td>\n",
       "      <td>2.079737</td>\n",
       "    </tr>\n",
       "    <tr>\n",
       "      <th>2014-01-01 00:01:00</th>\n",
       "      <td>2.739016</td>\n",
       "      <td>2.150064</td>\n",
       "      <td>0.000000</td>\n",
       "      <td>0.000000</td>\n",
       "    </tr>\n",
       "    <tr>\n",
       "      <th>2014-01-01 00:02:00</th>\n",
       "      <td>2.970623</td>\n",
       "      <td>2.374586</td>\n",
       "      <td>3.985416</td>\n",
       "      <td>3.249138</td>\n",
       "    </tr>\n",
       "    <tr>\n",
       "      <th>2014-01-01 00:03:00</th>\n",
       "      <td>2.666414</td>\n",
       "      <td>2.098864</td>\n",
       "      <td>1.871086</td>\n",
       "      <td>1.904508</td>\n",
       "    </tr>\n",
       "    <tr>\n",
       "      <th>2014-01-01 00:04:00</th>\n",
       "      <td>2.634461</td>\n",
       "      <td>2.075230</td>\n",
       "      <td>1.428373</td>\n",
       "      <td>1.174216</td>\n",
       "    </tr>\n",
       "  </tbody>\n",
       "</table>\n",
       "</div>"
      ],
      "text/plain": [
       "                     us_valence  us_arousal  mx_valence  mx_arousal\n",
       "date                                                               \n",
       "2014-01-01 00:00:00    2.988962    2.354228    2.720881    2.079737\n",
       "2014-01-01 00:01:00    2.739016    2.150064    0.000000    0.000000\n",
       "2014-01-01 00:02:00    2.970623    2.374586    3.985416    3.249138\n",
       "2014-01-01 00:03:00    2.666414    2.098864    1.871086    1.904508\n",
       "2014-01-01 00:04:00    2.634461    2.075230    1.428373    1.174216"
      ]
     },
     "execution_count": 5,
     "metadata": {},
     "output_type": "execute_result"
    }
   ],
   "source": [
    "data = pd.read_csv('../data/CountrySeries/results.csv', parse_dates=['date'], index_col=['date'])\n",
    "data.head()"
   ]
  },
  {
   "cell_type": "code",
   "execution_count": null,
   "metadata": {
    "collapsed": true
   },
   "outputs": [],
   "source": []
  },
  {
   "cell_type": "code",
   "execution_count": 7,
   "metadata": {
    "collapsed": false
   },
   "outputs": [
    {
     "name": "stdout",
     "output_type": "stream",
     "text": [
      "2013-12-31 00:00:00\n",
      "2014-01-31 00:00:00\n",
      "2014-02-28 00:00:00\n",
      "2014-03-31 00:00:00\n",
      "2014-04-30 00:00:00\n",
      "2014-05-31 00:00:00\n",
      "2014-06-30 00:00:00\n",
      "2014-07-31 00:00:00\n",
      "2014-08-31 00:00:00\n",
      "2014-09-30 00:00:00\n",
      "2014-10-31 00:00:00\n",
      "2014-11-30 00:00:00\n",
      "2014-12-31 00:00:00\n",
      "2015-01-31 00:00:00\n",
      "2015-02-28 00:00:00\n",
      "2015-03-31 00:00:00\n",
      "2015-04-30 00:00:00\n",
      "2015-05-31 00:00:00\n",
      "2015-06-30 00:00:00\n",
      "2015-07-31 00:00:00\n"
     ]
    }
   ],
   "source": [
    "for m, grp in data.groupby(pd.TimeGrouper(\"M\")):\n",
    "    print m"
   ]
  },
  {
   "cell_type": "code",
   "execution_count": null,
   "metadata": {
    "collapsed": true
   },
   "outputs": [],
   "source": []
  }
 ],
 "metadata": {
  "kernelspec": {
   "display_name": "Python 2",
   "language": "python",
   "name": "python2"
  },
  "language_info": {
   "codemirror_mode": {
    "name": "ipython",
    "version": 2
   },
   "file_extension": ".py",
   "mimetype": "text/x-python",
   "name": "python",
   "nbconvert_exporter": "python",
   "pygments_lexer": "ipython2",
   "version": "2.7.10"
  }
 },
 "nbformat": 4,
 "nbformat_minor": 0
}
