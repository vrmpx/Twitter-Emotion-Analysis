{
 "cells": [
  {
   "cell_type": "code",
   "execution_count": 1,
   "metadata": {
    "collapsed": true
   },
   "outputs": [],
   "source": [
    "import re\n",
    "import numpy as np\n",
    "import pandas as pd\n",
    "\n",
    "import numpy.linalg as LA \n",
    "from sklearn.cluster import DBSCAN"
   ]
  },
  {
   "cell_type": "code",
   "execution_count": 2,
   "metadata": {
    "collapsed": false
   },
   "outputs": [
    {
     "data": {
      "text/html": [
       "<div style=\"max-height:1000px;max-width:1500px;overflow:auto;\">\n",
       "<table border=\"1\" class=\"dataframe\">\n",
       "  <thead>\n",
       "    <tr style=\"text-align: right;\">\n",
       "      <th></th>\n",
       "      <th>from_user_id</th>\n",
       "      <th>created_at</th>\n",
       "      <th>coordinates</th>\n",
       "    </tr>\n",
       "  </thead>\n",
       "  <tbody>\n",
       "    <tr>\n",
       "      <th>0</th>\n",
       "      <td> 2537269060</td>\n",
       "      <td> Sat Jan 10 01:01:47 +0000 2015</td>\n",
       "      <td> {u'type': u'Point', u'coordinates': [-117.1306...</td>\n",
       "    </tr>\n",
       "    <tr>\n",
       "      <th>1</th>\n",
       "      <td> 2329502492</td>\n",
       "      <td> Sat Jan 10 01:01:47 +0000 2015</td>\n",
       "      <td> {u'type': u'Point', u'coordinates': [-117.1701...</td>\n",
       "    </tr>\n",
       "    <tr>\n",
       "      <th>2</th>\n",
       "      <td>  366331312</td>\n",
       "      <td> Sat Jan 10 01:01:47 +0000 2015</td>\n",
       "      <td> {u'type': u'Point', u'coordinates': [-121.2075...</td>\n",
       "    </tr>\n",
       "    <tr>\n",
       "      <th>3</th>\n",
       "      <td> 1007081804</td>\n",
       "      <td> Sat Jan 10 01:01:50 +0000 2015</td>\n",
       "      <td> {u'type': u'Point', u'coordinates': [-117.0861...</td>\n",
       "    </tr>\n",
       "    <tr>\n",
       "      <th>4</th>\n",
       "      <td>   89506217</td>\n",
       "      <td> Sat Jan 10 01:01:53 +0000 2015</td>\n",
       "      <td> {u'type': u'Point', u'coordinates': [-121.3433...</td>\n",
       "    </tr>\n",
       "  </tbody>\n",
       "</table>\n",
       "</div>"
      ],
      "text/plain": [
       "   from_user_id                      created_at  \\\n",
       "0    2537269060  Sat Jan 10 01:01:47 +0000 2015   \n",
       "1    2329502492  Sat Jan 10 01:01:47 +0000 2015   \n",
       "2     366331312  Sat Jan 10 01:01:47 +0000 2015   \n",
       "3    1007081804  Sat Jan 10 01:01:50 +0000 2015   \n",
       "4      89506217  Sat Jan 10 01:01:53 +0000 2015   \n",
       "\n",
       "                                         coordinates  \n",
       "0  {u'type': u'Point', u'coordinates': [-117.1306...  \n",
       "1  {u'type': u'Point', u'coordinates': [-117.1701...  \n",
       "2  {u'type': u'Point', u'coordinates': [-121.2075...  \n",
       "3  {u'type': u'Point', u'coordinates': [-117.0861...  \n",
       "4  {u'type': u'Point', u'coordinates': [-121.3433...  "
      ]
     },
     "execution_count": 2,
     "metadata": {},
     "output_type": "execute_result"
    }
   ],
   "source": [
    "data = pd.read_csv('../data/users_location_time.tsv', sep='\\t')\n",
    "data.head()"
   ]
  },
  {
   "cell_type": "code",
   "execution_count": null,
   "metadata": {
    "collapsed": false
   },
   "outputs": [],
   "source": [
    "lon_re = \"{u'type': u'Point', u'coordinates': \\[(.*),\\s.*\\]}\"\n",
    "data['longitude'] = data['coordinates'].str.extract(lon_re).apply(float)\n",
    "\n",
    "lat_re = \"{u'type': u'Point', u'coordinates': \\[.*,\\s(.*)\\]}\"\n",
    "data['latitude'] = data['coordinates'].str.extract(lat_re).apply(float)\n",
    "data = data.drop('coordinates', 1)\n",
    "\n",
    "data.head()"
   ]
  },
  {
   "cell_type": "code",
   "execution_count": null,
   "metadata": {
    "collapsed": false
   },
   "outputs": [],
   "source": [
    "filtered = data[['from_user_id', 'longitude', 'latitude']] \\\n",
    "                .groupby('from_user_id') \\\n",
    "                .filter(lambda x: len(x) > 3) \\\n",
    "                .dropna()\n",
    "filtered.head()"
   ]
  },
  {
   "cell_type": "code",
   "execution_count": null,
   "metadata": {
    "collapsed": true
   },
   "outputs": [],
   "source": [
    "def cluster(locations, xmin = 1, epsilon = 0.3, neigh_samples = 3, random_state = 42):\n",
    "    \"\"\" Devuelve el cluster de los datos para un usuario\n",
    "        INPT: \n",
    "        locations es una matriz de coordenadas\n",
    "        epsilon, neigh_samples: datos para DBSCAN\n",
    "        OUTPT:\n",
    "            (cluster, labels) si el numero de filas en locations > xmin\n",
    "                               cluster es una lista de n_clusters matrices de len(n_clusters) x 2\n",
    "            (none, none) en otro caso\n",
    "    \"\"\"\n",
    "    db = DBSCAN(eps = epsilon, min_samples = neigh_samples, random_state = random_state).fit(locations)\n",
    "    labels = db.labels_\n",
    "    n_clusters = len(set(labels)) - (1 if -1 in labels else 0)\n",
    "\n",
    "    clusters = [locations[labels == i] for i in xrange(n_clusters)]\n",
    "\n",
    "    return clusters"
   ]
  },
  {
   "cell_type": "code",
   "execution_count": null,
   "metadata": {
    "collapsed": true
   },
   "outputs": [],
   "source": [
    "def getCentroid(cluster):\n",
    "    \"\"\"\n",
    "        Devuelve el centroide de las coordenadas del cluster\n",
    "        INPT:\n",
    "            cluster es el cluster obtenido para ese usuario\n",
    "        OUTPT:\n",
    "            centroid si cluster es distinto de None\n",
    "            None en otro caso\n",
    "    \"\"\"\n",
    "    try:\n",
    "        return np.mean(cluster, axis = 0)\n",
    "    except:\n",
    "        return None\n",
    "\n",
    "def maxCluster(clusters):\n",
    "    \"\"\" Deuvelve el cluster mas grande para un usuario\n",
    "        INPT:\n",
    "            clusters: cluster obtenido para key\n",
    "    \"\"\"\n",
    "    try:\n",
    "        return clusters[np.argmax(map(len, clusters))]\n",
    "    except:\n",
    "        return None"
   ]
  },
  {
   "cell_type": "code",
   "execution_count": null,
   "metadata": {
    "collapsed": false
   },
   "outputs": [],
   "source": [
    "with open('../data/homeInferences_user.tsv', 'w') as outpt:\n",
    "    for uid, val in filtered.groupby('from_user_id'):\n",
    "        mtx = np.matrix(val[['longitude', 'latitude']].values)\n",
    "        c = cluster(mtx)\n",
    "        outpt.write(\"{}\\t{}\".format(uid, np.asarray(getCentroid(maxCluster(c))).reshape(-1)))\n",
    "print \"Done...\""
   ]
  },
  {
   "cell_type": "code",
   "execution_count": null,
   "metadata": {
    "collapsed": true
   },
   "outputs": [],
   "source": []
  }
 ],
 "metadata": {
  "kernelspec": {
   "display_name": "Python 2",
   "language": "python",
   "name": "python2"
  },
  "language_info": {
   "codemirror_mode": {
    "name": "ipython",
    "version": 2
   },
   "file_extension": ".py",
   "mimetype": "text/x-python",
   "name": "python",
   "nbconvert_exporter": "python",
   "pygments_lexer": "ipython2",
   "version": "2.7.9"
  }
 },
 "nbformat": 4,
 "nbformat_minor": 0
}
