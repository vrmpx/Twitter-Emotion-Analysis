{
 "cells": [
  {
   "cell_type": "code",
   "execution_count": 1,
   "metadata": {
    "collapsed": true
   },
   "outputs": [],
   "source": [
    "import gensim\n",
    "import re\n",
    "import string\n",
    "import pandas as pd\n",
    "from collections import defaultdict"
   ]
  },
  {
   "cell_type": "markdown",
   "metadata": {},
   "source": [
    "# Word Embedings\n",
    "\n",
    "Define sentence iterator. \n",
    "Perform pre-processing:\n",
    "0. Lowercase & tokenize\n",
    "1. Replace @MENTION & URL"
   ]
  },
  {
   "cell_type": "markdown",
   "metadata": {},
   "source": [
    "### Train embeddings in sentences using Word2Vec"
   ]
  },
  {
   "cell_type": "code",
   "execution_count": null,
   "metadata": {
    "collapsed": true
   },
   "outputs": [],
   "source": [
    "import os\n",
    "class MySentences(object):\n",
    "    def __init__(self, dirname, fname):\n",
    "        self.dirname = dirname\n",
    "        self.fname = fname\n",
    "        \n",
    "    def __iter__(self):\n",
    "        for line in open(os.path.join(self.dirname, self.fname)):\n",
    "            yield line.split()"
   ]
  },
  {
   "cell_type": "code",
   "execution_count": null,
   "metadata": {
    "collapsed": false
   },
   "outputs": [],
   "source": [
    "sentences = MySentences('../data/SentimentCorpus/', 'es.tsv.lower.preprocessed')\n",
    "model = gensim.models.Word2Vec(sentences, size=400, alpha=0.025, window=5, min_count=5, max_vocab_size=None)"
   ]
  },
  {
   "cell_type": "code",
   "execution_count": null,
   "metadata": {
    "collapsed": true
   },
   "outputs": [],
   "source": [
    "model.save('../data/SentimentCorpus/es.word2vec')"
   ]
  },
  {
   "cell_type": "code",
   "execution_count": null,
   "metadata": {
    "collapsed": false
   },
   "outputs": [],
   "source": [
    "model.most_similar(positive=['hombre'], topn=5)"
   ]
  },
  {
   "cell_type": "code",
   "execution_count": null,
   "metadata": {
    "collapsed": false
   },
   "outputs": [],
   "source": [
    "model.most_similar(positive=['mujer'], topn=5)"
   ]
  },
  {
   "cell_type": "code",
   "execution_count": null,
   "metadata": {
    "collapsed": false
   },
   "outputs": [],
   "source": [
    "model.most_similar(positive=['apple'])"
   ]
  },
  {
   "cell_type": "markdown",
   "metadata": {},
   "source": [
    "### English"
   ]
  },
  {
   "cell_type": "code",
   "execution_count": null,
   "metadata": {
    "collapsed": true
   },
   "outputs": [],
   "source": [
    "sentences = MySentences('../data/SentimentCorpus/', 'en.tsv.lower.preprocessed')\n",
    "model = gensim.models.Word2Vec(sentences, size=400, alpha=0.025, window=5, min_count=5, max_vocab_size=None)\n",
    "model.save('../data/en.word2vec')"
   ]
  },
  {
   "cell_type": "code",
   "execution_count": null,
   "metadata": {
    "collapsed": false
   },
   "outputs": [],
   "source": [
    "model.most_similar(positive=['man'], topn=5)"
   ]
  },
  {
   "cell_type": "code",
   "execution_count": null,
   "metadata": {
    "collapsed": false
   },
   "outputs": [],
   "source": [
    "model.most_similar(positive=['woman'], topn=5)"
   ]
  },
  {
   "cell_type": "code",
   "execution_count": null,
   "metadata": {
    "collapsed": false
   },
   "outputs": [],
   "source": [
    "model.most_similar(positive=['samsung', 'smartphone'], negative=['phone'])"
   ]
  },
  {
   "cell_type": "markdown",
   "metadata": {},
   "source": [
    "# Expand ANEW and ANSW\n",
    "Spanish:"
   ]
  },
  {
   "cell_type": "code",
   "execution_count": 35,
   "metadata": {
    "collapsed": false
   },
   "outputs": [],
   "source": [
    "es_model = gensim.models.Word2Vec.load('../data/Word2Vec/es.word2vec')"
   ]
  },
  {
   "cell_type": "code",
   "execution_count": 36,
   "metadata": {
    "collapsed": false
   },
   "outputs": [
    {
     "name": "stdout",
     "output_type": "stream",
     "text": [
      "1034\n"
     ]
    },
    {
     "data": {
      "text/html": [
       "<div>\n",
       "<table border=\"1\" class=\"dataframe\">\n",
       "  <thead>\n",
       "    <tr style=\"text-align: right;\">\n",
       "      <th></th>\n",
       "      <th>S-Word</th>\n",
       "      <th>Val-Mn-All</th>\n",
       "      <th>Val-Sd-All</th>\n",
       "      <th>Aro-Mn-All</th>\n",
       "      <th>Aro-Sd-All</th>\n",
       "      <th>Freq</th>\n",
       "    </tr>\n",
       "  </thead>\n",
       "  <tbody>\n",
       "    <tr>\n",
       "      <th>341</th>\n",
       "      <td>violación</td>\n",
       "      <td>1.11</td>\n",
       "      <td>0.48</td>\n",
       "      <td>7.98</td>\n",
       "      <td>1.51</td>\n",
       "      <td>9.29</td>\n",
       "    </tr>\n",
       "    <tr>\n",
       "      <th>585</th>\n",
       "      <td>muerto</td>\n",
       "      <td>1.17</td>\n",
       "      <td>0.57</td>\n",
       "      <td>5.99</td>\n",
       "      <td>2.89</td>\n",
       "      <td>123.39</td>\n",
       "    </tr>\n",
       "    <tr>\n",
       "      <th>25</th>\n",
       "      <td>asesinar</td>\n",
       "      <td>1.18</td>\n",
       "      <td>0.55</td>\n",
       "      <td>7.44</td>\n",
       "      <td>2.15</td>\n",
       "      <td>4.64</td>\n",
       "    </tr>\n",
       "    <tr>\n",
       "      <th>479</th>\n",
       "      <td>guerra</td>\n",
       "      <td>1.23</td>\n",
       "      <td>0.72</td>\n",
       "      <td>7.28</td>\n",
       "      <td>2.23</td>\n",
       "      <td>251.61</td>\n",
       "    </tr>\n",
       "    <tr>\n",
       "      <th>99</th>\n",
       "      <td>muerte</td>\n",
       "      <td>1.23</td>\n",
       "      <td>0.64</td>\n",
       "      <td>6.46</td>\n",
       "      <td>2.76</td>\n",
       "      <td>257.32</td>\n",
       "    </tr>\n",
       "  </tbody>\n",
       "</table>\n",
       "</div>"
      ],
      "text/plain": [
       "        S-Word  Val-Mn-All  Val-Sd-All  Aro-Mn-All  Aro-Sd-All    Freq\n",
       "341  violación        1.11        0.48        7.98        1.51    9.29\n",
       "585     muerto        1.17        0.57        5.99        2.89  123.39\n",
       "25    asesinar        1.18        0.55        7.44        2.15    4.64\n",
       "479     guerra        1.23        0.72        7.28        2.23  251.61\n",
       "99      muerte        1.23        0.64        6.46        2.76  257.32"
      ]
     },
     "execution_count": 36,
     "metadata": {},
     "output_type": "execute_result"
    }
   ],
   "source": [
    "answ = pd.read_csv('../data/SentimentCorpus/ANEW/ANSW.tsv', sep = '\\t')\n",
    "print len(answ)\n",
    "answ.sort_values(by = 'Val-Mn-All').head()"
   ]
  },
  {
   "cell_type": "code",
   "execution_count": 37,
   "metadata": {
    "collapsed": true
   },
   "outputs": [],
   "source": [
    "answ.Freq = answ.Freq.fillna(1) "
   ]
  },
  {
   "cell_type": "code",
   "execution_count": 38,
   "metadata": {
    "collapsed": false
   },
   "outputs": [],
   "source": [
    "res = []\n",
    "\n",
    "for idx, row in answ.iterrows():\n",
    "    try:\n",
    "        sims = es_model.most_similar(positive = [row['S-Word']], topn = 100)\n",
    "    except:\n",
    "        sims = []\n",
    "        \n",
    "    for sim, weight in filter(lambda x: x[1] > 0.5, sims):\n",
    "        r = {}\n",
    "        r['word'] = sim\n",
    "        for c in [u'Val-Mn-All', u'Val-Sd-All', u'Aro-Mn-All', u'Aro-Sd-All', 'Freq']:\n",
    "            r[c] = row[c] * weight\n",
    "            \n",
    "        res.append(r)"
   ]
  },
  {
   "cell_type": "code",
   "execution_count": 39,
   "metadata": {
    "collapsed": false
   },
   "outputs": [
    {
     "name": "stdout",
     "output_type": "stream",
     "text": [
      "15469\n"
     ]
    },
    {
     "data": {
      "text/html": [
       "<div>\n",
       "<table border=\"1\" class=\"dataframe\">\n",
       "  <thead>\n",
       "    <tr style=\"text-align: right;\">\n",
       "      <th></th>\n",
       "      <th>Aro-Mn-All</th>\n",
       "      <th>Aro-Sd-All</th>\n",
       "      <th>Freq</th>\n",
       "      <th>Val-Mn-All</th>\n",
       "      <th>Val-Sd-All</th>\n",
       "      <th>word</th>\n",
       "    </tr>\n",
       "  </thead>\n",
       "  <tbody>\n",
       "    <tr>\n",
       "      <th>669</th>\n",
       "      <td>3.726865</td>\n",
       "      <td>1.076984</td>\n",
       "      <td>2.324281</td>\n",
       "      <td>0.591089</td>\n",
       "      <td>0.275507</td>\n",
       "      <td>agarrarlos</td>\n",
       "    </tr>\n",
       "    <tr>\n",
       "      <th>668</th>\n",
       "      <td>3.732478</td>\n",
       "      <td>1.078606</td>\n",
       "      <td>2.327782</td>\n",
       "      <td>0.591979</td>\n",
       "      <td>0.275922</td>\n",
       "      <td>mandarlas</td>\n",
       "    </tr>\n",
       "    <tr>\n",
       "      <th>667</th>\n",
       "      <td>3.747961</td>\n",
       "      <td>1.083080</td>\n",
       "      <td>2.337438</td>\n",
       "      <td>0.594435</td>\n",
       "      <td>0.277067</td>\n",
       "      <td>referirse</td>\n",
       "    </tr>\n",
       "    <tr>\n",
       "      <th>666</th>\n",
       "      <td>3.748557</td>\n",
       "      <td>1.083252</td>\n",
       "      <td>2.337810</td>\n",
       "      <td>0.594529</td>\n",
       "      <td>0.277111</td>\n",
       "      <td>secuestrar</td>\n",
       "    </tr>\n",
       "    <tr>\n",
       "      <th>665</th>\n",
       "      <td>3.751257</td>\n",
       "      <td>1.084033</td>\n",
       "      <td>2.339493</td>\n",
       "      <td>0.594957</td>\n",
       "      <td>0.277311</td>\n",
       "      <td>defraudar</td>\n",
       "    </tr>\n",
       "  </tbody>\n",
       "</table>\n",
       "</div>"
      ],
      "text/plain": [
       "     Aro-Mn-All  Aro-Sd-All      Freq  Val-Mn-All  Val-Sd-All        word\n",
       "669    3.726865    1.076984  2.324281    0.591089    0.275507  agarrarlos\n",
       "668    3.732478    1.078606  2.327782    0.591979    0.275922   mandarlas\n",
       "667    3.747961    1.083080  2.337438    0.594435    0.277067   referirse\n",
       "666    3.748557    1.083252  2.337810    0.594529    0.277111  secuestrar\n",
       "665    3.751257    1.084033  2.339493    0.594957    0.277311   defraudar"
      ]
     },
     "execution_count": 39,
     "metadata": {},
     "output_type": "execute_result"
    }
   ],
   "source": [
    "res = pd.DataFrame(res)\n",
    "print len(res)\n",
    "res.sort_values(by='Val-Mn-All').head()"
   ]
  },
  {
   "cell_type": "markdown",
   "metadata": {},
   "source": [
    "### Concat original ANSW"
   ]
  },
  {
   "cell_type": "code",
   "execution_count": 40,
   "metadata": {
    "collapsed": false
   },
   "outputs": [
    {
     "name": "stdout",
     "output_type": "stream",
     "text": [
      "16503\n"
     ]
    },
    {
     "data": {
      "text/html": [
       "<div>\n",
       "<table border=\"1\" class=\"dataframe\">\n",
       "  <thead>\n",
       "    <tr style=\"text-align: right;\">\n",
       "      <th></th>\n",
       "      <th>Aro-Mn-All</th>\n",
       "      <th>Aro-Sd-All</th>\n",
       "      <th>Freq</th>\n",
       "      <th>Val-Mn-All</th>\n",
       "      <th>Val-Sd-All</th>\n",
       "      <th>word</th>\n",
       "    </tr>\n",
       "  </thead>\n",
       "  <tbody>\n",
       "    <tr>\n",
       "      <th>669</th>\n",
       "      <td>3.726865</td>\n",
       "      <td>1.076984</td>\n",
       "      <td>2.324281</td>\n",
       "      <td>0.591089</td>\n",
       "      <td>0.275507</td>\n",
       "      <td>agarrarlos</td>\n",
       "    </tr>\n",
       "    <tr>\n",
       "      <th>668</th>\n",
       "      <td>3.732478</td>\n",
       "      <td>1.078606</td>\n",
       "      <td>2.327782</td>\n",
       "      <td>0.591979</td>\n",
       "      <td>0.275922</td>\n",
       "      <td>mandarlas</td>\n",
       "    </tr>\n",
       "    <tr>\n",
       "      <th>667</th>\n",
       "      <td>3.747961</td>\n",
       "      <td>1.083080</td>\n",
       "      <td>2.337438</td>\n",
       "      <td>0.594435</td>\n",
       "      <td>0.277067</td>\n",
       "      <td>referirse</td>\n",
       "    </tr>\n",
       "    <tr>\n",
       "      <th>666</th>\n",
       "      <td>3.748557</td>\n",
       "      <td>1.083252</td>\n",
       "      <td>2.337810</td>\n",
       "      <td>0.594529</td>\n",
       "      <td>0.277111</td>\n",
       "      <td>secuestrar</td>\n",
       "    </tr>\n",
       "    <tr>\n",
       "      <th>665</th>\n",
       "      <td>3.751257</td>\n",
       "      <td>1.084033</td>\n",
       "      <td>2.339493</td>\n",
       "      <td>0.594957</td>\n",
       "      <td>0.277311</td>\n",
       "      <td>defraudar</td>\n",
       "    </tr>\n",
       "  </tbody>\n",
       "</table>\n",
       "</div>"
      ],
      "text/plain": [
       "     Aro-Mn-All  Aro-Sd-All      Freq  Val-Mn-All  Val-Sd-All        word\n",
       "669    3.726865    1.076984  2.324281    0.591089    0.275507  agarrarlos\n",
       "668    3.732478    1.078606  2.327782    0.591979    0.275922   mandarlas\n",
       "667    3.747961    1.083080  2.337438    0.594435    0.277067   referirse\n",
       "666    3.748557    1.083252  2.337810    0.594529    0.277111  secuestrar\n",
       "665    3.751257    1.084033  2.339493    0.594957    0.277311   defraudar"
      ]
     },
     "execution_count": 40,
     "metadata": {},
     "output_type": "execute_result"
    }
   ],
   "source": [
    "original = answ[['Aro-Mn-All', 'Aro-Sd-All', 'Val-Mn-All', 'Val-Sd-All', 'Freq', 'S-Word']]\n",
    "original.columns = ['Aro-Mn-All','Aro-Sd-All', 'Val-Mn-All', 'Val-Sd-All', 'Freq', 'word']\n",
    "tmp = pd.concat([res, original])\n",
    "print len(tmp)\n",
    "tmp.sort_values(by='Val-Mn-All').head()"
   ]
  },
  {
   "cell_type": "markdown",
   "metadata": {},
   "source": [
    "### Compress & Remove Dup"
   ]
  },
  {
   "cell_type": "code",
   "execution_count": 41,
   "metadata": {
    "collapsed": false
   },
   "outputs": [
    {
     "data": {
      "text/html": [
       "<div>\n",
       "<table border=\"1\" class=\"dataframe\">\n",
       "  <thead>\n",
       "    <tr style=\"text-align: right;\">\n",
       "      <th></th>\n",
       "      <th>Arousal</th>\n",
       "      <th>Arousal.std</th>\n",
       "      <th>Frequency</th>\n",
       "      <th>Valence</th>\n",
       "      <th>Valence.std</th>\n",
       "    </tr>\n",
       "  </thead>\n",
       "  <tbody>\n",
       "    <tr>\n",
       "      <th>agarrarlos</th>\n",
       "      <td>3.726865</td>\n",
       "      <td>1.076984</td>\n",
       "      <td>2.324281</td>\n",
       "      <td>0.591089</td>\n",
       "      <td>0.275507</td>\n",
       "    </tr>\n",
       "    <tr>\n",
       "      <th>secuestrar</th>\n",
       "      <td>3.748557</td>\n",
       "      <td>1.083252</td>\n",
       "      <td>2.337810</td>\n",
       "      <td>0.594529</td>\n",
       "      <td>0.277111</td>\n",
       "    </tr>\n",
       "    <tr>\n",
       "      <th>someterse</th>\n",
       "      <td>3.751942</td>\n",
       "      <td>1.084231</td>\n",
       "      <td>2.339921</td>\n",
       "      <td>0.595066</td>\n",
       "      <td>0.277361</td>\n",
       "    </tr>\n",
       "    <tr>\n",
       "      <th>extorsionar</th>\n",
       "      <td>3.770322</td>\n",
       "      <td>1.089542</td>\n",
       "      <td>2.351384</td>\n",
       "      <td>0.597981</td>\n",
       "      <td>0.278720</td>\n",
       "    </tr>\n",
       "    <tr>\n",
       "      <th>impactar</th>\n",
       "      <td>3.771986</td>\n",
       "      <td>1.090023</td>\n",
       "      <td>2.352422</td>\n",
       "      <td>0.598245</td>\n",
       "      <td>0.278843</td>\n",
       "    </tr>\n",
       "  </tbody>\n",
       "</table>\n",
       "</div>"
      ],
      "text/plain": [
       "              Arousal  Arousal.std  Frequency   Valence  Valence.std\n",
       "agarrarlos   3.726865     1.076984   2.324281  0.591089     0.275507\n",
       "secuestrar   3.748557     1.083252   2.337810  0.594529     0.277111\n",
       "someterse    3.751942     1.084231   2.339921  0.595066     0.277361\n",
       "extorsionar  3.770322     1.089542   2.351384  0.597981     0.278720\n",
       "impactar     3.771986     1.090023   2.352422  0.598245     0.278843"
      ]
     },
     "execution_count": 41,
     "metadata": {},
     "output_type": "execute_result"
    }
   ],
   "source": [
    "res = tmp\n",
    "res2 = defaultdict(list)\n",
    "for idx, row in res.iterrows():\n",
    "    res2[row['word']].append((float(row['Val-Mn-All']), float(row['Val-Sd-All']),\n",
    "                              float(row['Aro-Mn-All']), float(row['Aro-Sd-All']),\n",
    "                              float(row['Freq'])))\n",
    "    \n",
    "tmp = {'Valence': {}, 'Valence.std': {}, 'Arousal':{}, 'Arousal.std':{}, 'Frequency':{}}\n",
    "for k, tlist in res2.iteritems():\n",
    "    average_tuple = tuple(map(lambda y: sum(y) / float(len(y)), zip(*tlist)))\n",
    "    tmp['Valence'][k] = average_tuple[0]\n",
    "    tmp['Valence.std'][k] = average_tuple[1]\n",
    "    tmp['Arousal'][k] = average_tuple[2]\n",
    "    tmp['Arousal.std'][k] = average_tuple[3]\n",
    "    tmp['Frequency'][k] = average_tuple[4]\n",
    "    \n",
    "tmp = pd.DataFrame(tmp)\n",
    "tmp.sort_values(by = 'Valence').head()"
   ]
  },
  {
   "cell_type": "code",
   "execution_count": 42,
   "metadata": {
    "collapsed": false
   },
   "outputs": [
    {
     "data": {
      "text/plain": [
       "count    9604.000000\n",
       "mean        8.399357\n",
       "std        28.930689\n",
       "min         0.000000\n",
       "25%         0.760956\n",
       "50%         2.005471\n",
       "75%         5.025509\n",
       "max       850.890000\n",
       "Name: Frequency, dtype: float64"
      ]
     },
     "execution_count": 42,
     "metadata": {},
     "output_type": "execute_result"
    }
   ],
   "source": [
    "tmp.Frequency.describe()"
   ]
  },
  {
   "cell_type": "code",
   "execution_count": 43,
   "metadata": {
    "collapsed": false
   },
   "outputs": [
    {
     "name": "stdout",
     "output_type": "stream",
     "text": [
      "9604\n"
     ]
    }
   ],
   "source": [
    "res = tmp\n",
    "print len(res)\n",
    "res.to_csv('../data/expandedANSW.csv')"
   ]
  },
  {
   "cell_type": "code",
   "execution_count": 44,
   "metadata": {
    "collapsed": true
   },
   "outputs": [],
   "source": [
    "es_model = None\n",
    "res = None"
   ]
  },
  {
   "cell_type": "markdown",
   "metadata": {
    "collapsed": true
   },
   "source": [
    "### __English:__"
   ]
  },
  {
   "cell_type": "code",
   "execution_count": 20,
   "metadata": {
    "collapsed": false
   },
   "outputs": [],
   "source": [
    "en_model = gensim.models.Word2Vec.load('../data/Word2Vec/en.word2vec')"
   ]
  },
  {
   "cell_type": "code",
   "execution_count": 21,
   "metadata": {
    "collapsed": false
   },
   "outputs": [
    {
     "data": {
      "text/html": [
       "<div>\n",
       "<table border=\"1\" class=\"dataframe\">\n",
       "  <thead>\n",
       "    <tr style=\"text-align: right;\">\n",
       "      <th></th>\n",
       "      <th>Description</th>\n",
       "      <th>WordNo</th>\n",
       "      <th>Valence</th>\n",
       "      <th>std</th>\n",
       "      <th>Arousal</th>\n",
       "      <th>std.1</th>\n",
       "      <th>Dominance</th>\n",
       "      <th>std.2</th>\n",
       "      <th>Frequency</th>\n",
       "    </tr>\n",
       "  </thead>\n",
       "  <tbody>\n",
       "    <tr>\n",
       "      <th>756</th>\n",
       "      <td>rape</td>\n",
       "      <td>344</td>\n",
       "      <td>1.25</td>\n",
       "      <td>0.91</td>\n",
       "      <td>6.81</td>\n",
       "      <td>3.17</td>\n",
       "      <td>2.97</td>\n",
       "      <td>2.94</td>\n",
       "      <td>5</td>\n",
       "    </tr>\n",
       "    <tr>\n",
       "      <th>896</th>\n",
       "      <td>suicide</td>\n",
       "      <td>419</td>\n",
       "      <td>1.25</td>\n",
       "      <td>0.69</td>\n",
       "      <td>5.73</td>\n",
       "      <td>3.14</td>\n",
       "      <td>3.58</td>\n",
       "      <td>3.02</td>\n",
       "      <td>17</td>\n",
       "    </tr>\n",
       "    <tr>\n",
       "      <th>357</th>\n",
       "      <td>funeral</td>\n",
       "      <td>178</td>\n",
       "      <td>1.39</td>\n",
       "      <td>0.87</td>\n",
       "      <td>4.94</td>\n",
       "      <td>3.21</td>\n",
       "      <td>2.97</td>\n",
       "      <td>2.55</td>\n",
       "      <td>33</td>\n",
       "    </tr>\n",
       "    <tr>\n",
       "      <th>763</th>\n",
       "      <td>rejected</td>\n",
       "      <td>349</td>\n",
       "      <td>1.50</td>\n",
       "      <td>1.09</td>\n",
       "      <td>6.37</td>\n",
       "      <td>2.56</td>\n",
       "      <td>2.72</td>\n",
       "      <td>2.58</td>\n",
       "      <td>33</td>\n",
       "    </tr>\n",
       "    <tr>\n",
       "      <th>130</th>\n",
       "      <td>cancer</td>\n",
       "      <td>60</td>\n",
       "      <td>1.50</td>\n",
       "      <td>0.85</td>\n",
       "      <td>6.42</td>\n",
       "      <td>2.83</td>\n",
       "      <td>3.42</td>\n",
       "      <td>2.99</td>\n",
       "      <td>25</td>\n",
       "    </tr>\n",
       "  </tbody>\n",
       "</table>\n",
       "</div>"
      ],
      "text/plain": [
       "    Description  WordNo  Valence   std  Arousal  std.1  Dominance  std.2  \\\n",
       "756        rape     344     1.25  0.91     6.81   3.17       2.97   2.94   \n",
       "896     suicide     419     1.25  0.69     5.73   3.14       3.58   3.02   \n",
       "357     funeral     178     1.39  0.87     4.94   3.21       2.97   2.55   \n",
       "763    rejected     349     1.50  1.09     6.37   2.56       2.72   2.58   \n",
       "130      cancer      60     1.50  0.85     6.42   2.83       3.42   2.99   \n",
       "\n",
       "     Frequency  \n",
       "756          5  \n",
       "896         17  \n",
       "357         33  \n",
       "763         33  \n",
       "130         25  "
      ]
     },
     "execution_count": 21,
     "metadata": {},
     "output_type": "execute_result"
    }
   ],
   "source": [
    "anew = pd.read_csv('../data/SentimentCorpus/ANEW/anew_list.csv')\n",
    "anew.sort_values(by='Valence').head()"
   ]
  },
  {
   "cell_type": "code",
   "execution_count": 27,
   "metadata": {
    "collapsed": true
   },
   "outputs": [],
   "source": [
    "anew.Frequency = anew.Frequency.fillna(1) #Not so good Turing"
   ]
  },
  {
   "cell_type": "code",
   "execution_count": 28,
   "metadata": {
    "collapsed": false
   },
   "outputs": [],
   "source": [
    "res = []\n",
    "\n",
    "for idx, row in anew.iterrows():\n",
    "    try:\n",
    "        sims = en_model.most_similar(positive = [row['Description']], topn = 100)\n",
    "    except:\n",
    "        sims = []\n",
    "        \n",
    "    for sim, weight in filter(lambda x: x[1] > 0.5, sims):\n",
    "        r = {}\n",
    "        r['word'] = sim\n",
    "        for c in [ u'Valence', u'std', u'Arousal', u'std.1', 'Frequency']:\n",
    "            r[c] = row[c] * weight\n",
    "            \n",
    "        res.append(r)"
   ]
  },
  {
   "cell_type": "code",
   "execution_count": 29,
   "metadata": {
    "collapsed": false
   },
   "outputs": [
    {
     "name": "stdout",
     "output_type": "stream",
     "text": [
      "10568\n"
     ]
    },
    {
     "data": {
      "text/html": [
       "<div>\n",
       "<table border=\"1\" class=\"dataframe\">\n",
       "  <thead>\n",
       "    <tr style=\"text-align: right;\">\n",
       "      <th></th>\n",
       "      <th>Arousal</th>\n",
       "      <th>Frequency</th>\n",
       "      <th>Valence</th>\n",
       "      <th>std</th>\n",
       "      <th>std.1</th>\n",
       "      <th>word</th>\n",
       "    </tr>\n",
       "  </thead>\n",
       "  <tbody>\n",
       "    <tr>\n",
       "      <th>8212</th>\n",
       "      <td>3.426078</td>\n",
       "      <td>3.018571</td>\n",
       "      <td>0.628869</td>\n",
       "      <td>0.457817</td>\n",
       "      <td>1.594811</td>\n",
       "      <td>falsely</td>\n",
       "    </tr>\n",
       "    <tr>\n",
       "      <th>8211</th>\n",
       "      <td>3.427497</td>\n",
       "      <td>3.019822</td>\n",
       "      <td>0.629129</td>\n",
       "      <td>0.458006</td>\n",
       "      <td>1.595472</td>\n",
       "      <td>racism</td>\n",
       "    </tr>\n",
       "    <tr>\n",
       "      <th>8210</th>\n",
       "      <td>3.440826</td>\n",
       "      <td>3.031565</td>\n",
       "      <td>0.631576</td>\n",
       "      <td>0.459787</td>\n",
       "      <td>1.601677</td>\n",
       "      <td>murder</td>\n",
       "    </tr>\n",
       "    <tr>\n",
       "      <th>8209</th>\n",
       "      <td>3.452972</td>\n",
       "      <td>3.042266</td>\n",
       "      <td>0.633805</td>\n",
       "      <td>0.461410</td>\n",
       "      <td>1.607330</td>\n",
       "      <td>intercourse</td>\n",
       "    </tr>\n",
       "    <tr>\n",
       "      <th>8208</th>\n",
       "      <td>3.463143</td>\n",
       "      <td>3.051228</td>\n",
       "      <td>0.635672</td>\n",
       "      <td>0.462770</td>\n",
       "      <td>1.612065</td>\n",
       "      <td>targeting</td>\n",
       "    </tr>\n",
       "  </tbody>\n",
       "</table>\n",
       "</div>"
      ],
      "text/plain": [
       "       Arousal  Frequency   Valence       std     std.1         word\n",
       "8212  3.426078   3.018571  0.628869  0.457817  1.594811      falsely\n",
       "8211  3.427497   3.019822  0.629129  0.458006  1.595472       racism\n",
       "8210  3.440826   3.031565  0.631576  0.459787  1.601677       murder\n",
       "8209  3.452972   3.042266  0.633805  0.461410  1.607330  intercourse\n",
       "8208  3.463143   3.051228  0.635672  0.462770  1.612065    targeting"
      ]
     },
     "execution_count": 29,
     "metadata": {},
     "output_type": "execute_result"
    }
   ],
   "source": [
    "res = pd.DataFrame(res)\n",
    "print len(res)\n",
    "res.sort_values(by='Valence').head()"
   ]
  },
  {
   "cell_type": "code",
   "execution_count": 30,
   "metadata": {
    "collapsed": false
   },
   "outputs": [
    {
     "data": {
      "text/html": [
       "<div>\n",
       "<table border=\"1\" class=\"dataframe\">\n",
       "  <thead>\n",
       "    <tr style=\"text-align: right;\">\n",
       "      <th></th>\n",
       "      <th>Arousal</th>\n",
       "      <th>Frequency</th>\n",
       "      <th>Valence</th>\n",
       "      <th>std</th>\n",
       "      <th>std.1</th>\n",
       "      <th>word</th>\n",
       "    </tr>\n",
       "  </thead>\n",
       "  <tbody>\n",
       "    <tr>\n",
       "      <th>1987</th>\n",
       "      <td>2.473190</td>\n",
       "      <td>4.766318</td>\n",
       "      <td>1.758242</td>\n",
       "      <td>1.228651</td>\n",
       "      <td>1.244539</td>\n",
       "      <td>terrorists</td>\n",
       "    </tr>\n",
       "    <tr>\n",
       "      <th>9559</th>\n",
       "      <td>4.191347</td>\n",
       "      <td>0.576526</td>\n",
       "      <td>0.974330</td>\n",
       "      <td>0.818667</td>\n",
       "      <td>1.372133</td>\n",
       "      <td>terrorists</td>\n",
       "    </tr>\n",
       "  </tbody>\n",
       "</table>\n",
       "</div>"
      ],
      "text/plain": [
       "       Arousal  Frequency   Valence       std     std.1        word\n",
       "1987  2.473190   4.766318  1.758242  1.228651  1.244539  terrorists\n",
       "9559  4.191347   0.576526  0.974330  0.818667  1.372133  terrorists"
      ]
     },
     "execution_count": 30,
     "metadata": {},
     "output_type": "execute_result"
    }
   ],
   "source": [
    "res[(res.word == 'terrorists')]"
   ]
  },
  {
   "cell_type": "markdown",
   "metadata": {},
   "source": [
    "### Concat original ANEW"
   ]
  },
  {
   "cell_type": "code",
   "execution_count": 31,
   "metadata": {
    "collapsed": false
   },
   "outputs": [
    {
     "name": "stdout",
     "output_type": "stream",
     "text": [
      "11602\n"
     ]
    },
    {
     "data": {
      "text/html": [
       "<div>\n",
       "<table border=\"1\" class=\"dataframe\">\n",
       "  <thead>\n",
       "    <tr style=\"text-align: right;\">\n",
       "      <th></th>\n",
       "      <th>Arousal</th>\n",
       "      <th>Frequency</th>\n",
       "      <th>Valence</th>\n",
       "      <th>std</th>\n",
       "      <th>std.1</th>\n",
       "      <th>word</th>\n",
       "    </tr>\n",
       "  </thead>\n",
       "  <tbody>\n",
       "    <tr>\n",
       "      <th>8212</th>\n",
       "      <td>3.426078</td>\n",
       "      <td>3.018571</td>\n",
       "      <td>0.628869</td>\n",
       "      <td>0.457817</td>\n",
       "      <td>1.594811</td>\n",
       "      <td>falsely</td>\n",
       "    </tr>\n",
       "    <tr>\n",
       "      <th>8211</th>\n",
       "      <td>3.427497</td>\n",
       "      <td>3.019822</td>\n",
       "      <td>0.629129</td>\n",
       "      <td>0.458006</td>\n",
       "      <td>1.595472</td>\n",
       "      <td>racism</td>\n",
       "    </tr>\n",
       "    <tr>\n",
       "      <th>8210</th>\n",
       "      <td>3.440826</td>\n",
       "      <td>3.031565</td>\n",
       "      <td>0.631576</td>\n",
       "      <td>0.459787</td>\n",
       "      <td>1.601677</td>\n",
       "      <td>murder</td>\n",
       "    </tr>\n",
       "    <tr>\n",
       "      <th>8209</th>\n",
       "      <td>3.452972</td>\n",
       "      <td>3.042266</td>\n",
       "      <td>0.633805</td>\n",
       "      <td>0.461410</td>\n",
       "      <td>1.607330</td>\n",
       "      <td>intercourse</td>\n",
       "    </tr>\n",
       "    <tr>\n",
       "      <th>8208</th>\n",
       "      <td>3.463143</td>\n",
       "      <td>3.051228</td>\n",
       "      <td>0.635672</td>\n",
       "      <td>0.462770</td>\n",
       "      <td>1.612065</td>\n",
       "      <td>targeting</td>\n",
       "    </tr>\n",
       "  </tbody>\n",
       "</table>\n",
       "</div>"
      ],
      "text/plain": [
       "       Arousal  Frequency   Valence       std     std.1         word\n",
       "8212  3.426078   3.018571  0.628869  0.457817  1.594811      falsely\n",
       "8211  3.427497   3.019822  0.629129  0.458006  1.595472       racism\n",
       "8210  3.440826   3.031565  0.631576  0.459787  1.601677       murder\n",
       "8209  3.452972   3.042266  0.633805  0.461410  1.607330  intercourse\n",
       "8208  3.463143   3.051228  0.635672  0.462770  1.612065    targeting"
      ]
     },
     "execution_count": 31,
     "metadata": {},
     "output_type": "execute_result"
    }
   ],
   "source": [
    "original = anew[['Arousal','std.1', 'Valence', 'std', 'Frequency' ,'Description']]\n",
    "original.columns = ['Arousal', 'std.1', 'Valence', 'std', 'Frequency', 'word']\n",
    "tmp = pd.concat([res, original])\n",
    "print len(tmp)\n",
    "tmp.sort_values(by='Valence').head()"
   ]
  },
  {
   "cell_type": "markdown",
   "metadata": {},
   "source": [
    "### Remove Duplicates"
   ]
  },
  {
   "cell_type": "code",
   "execution_count": 32,
   "metadata": {
    "collapsed": false
   },
   "outputs": [
    {
     "name": "stdout",
     "output_type": "stream",
     "text": [
      "7284\n"
     ]
    },
    {
     "data": {
      "text/html": [
       "<div>\n",
       "<table border=\"1\" class=\"dataframe\">\n",
       "  <thead>\n",
       "    <tr style=\"text-align: right;\">\n",
       "      <th></th>\n",
       "      <th>Arousal</th>\n",
       "      <th>Arousal.std</th>\n",
       "      <th>Frequency</th>\n",
       "      <th>Valence</th>\n",
       "      <th>Valence.std</th>\n",
       "    </tr>\n",
       "  </thead>\n",
       "  <tbody>\n",
       "    <tr>\n",
       "      <th>falsely</th>\n",
       "      <td>3.426078</td>\n",
       "      <td>1.594811</td>\n",
       "      <td>3.018571</td>\n",
       "      <td>0.628869</td>\n",
       "      <td>0.457817</td>\n",
       "    </tr>\n",
       "    <tr>\n",
       "      <th>murder</th>\n",
       "      <td>3.440826</td>\n",
       "      <td>1.601677</td>\n",
       "      <td>3.031565</td>\n",
       "      <td>0.631576</td>\n",
       "      <td>0.459787</td>\n",
       "    </tr>\n",
       "    <tr>\n",
       "      <th>statutory</th>\n",
       "      <td>3.499274</td>\n",
       "      <td>1.628884</td>\n",
       "      <td>3.083061</td>\n",
       "      <td>0.642304</td>\n",
       "      <td>0.467598</td>\n",
       "    </tr>\n",
       "    <tr>\n",
       "      <th>herfinally</th>\n",
       "      <td>3.577588</td>\n",
       "      <td>1.665338</td>\n",
       "      <td>3.152060</td>\n",
       "      <td>0.656679</td>\n",
       "      <td>0.478062</td>\n",
       "    </tr>\n",
       "    <tr>\n",
       "      <th>consenting</th>\n",
       "      <td>3.707448</td>\n",
       "      <td>1.725787</td>\n",
       "      <td>3.266474</td>\n",
       "      <td>0.680515</td>\n",
       "      <td>0.495415</td>\n",
       "    </tr>\n",
       "  </tbody>\n",
       "</table>\n",
       "</div>"
      ],
      "text/plain": [
       "             Arousal  Arousal.std  Frequency   Valence  Valence.std\n",
       "falsely     3.426078     1.594811   3.018571  0.628869     0.457817\n",
       "murder      3.440826     1.601677   3.031565  0.631576     0.459787\n",
       "statutory   3.499274     1.628884   3.083061  0.642304     0.467598\n",
       "herfinally  3.577588     1.665338   3.152060  0.656679     0.478062\n",
       "consenting  3.707448     1.725787   3.266474  0.680515     0.495415"
      ]
     },
     "execution_count": 32,
     "metadata": {},
     "output_type": "execute_result"
    }
   ],
   "source": [
    "res = tmp\n",
    "res2 = defaultdict(list)\n",
    "for idx, row in res.iterrows():\n",
    "    res2[row['word']].append((float(row['Valence']), float(row['std']),\n",
    "                              float(row['Arousal']), float(row['std.1']),\n",
    "                              float(row['Frequency'])))\n",
    "    \n",
    "tmp = {'Valence': {}, 'Valence.std': {}, 'Arousal':{}, 'Arousal.std':{}, 'Frequency':{}}\n",
    "for k, tlist in res2.iteritems():\n",
    "    average_tuple = tuple(map(lambda y: sum(y) / float(len(y)), zip(*tlist)))\n",
    "    tmp['Valence'][k] = average_tuple[0]\n",
    "    tmp['Valence.std'][k] = average_tuple[1]\n",
    "    tmp['Arousal'][k] = average_tuple[2]\n",
    "    tmp['Arousal.std'][k] = average_tuple[3]\n",
    "    tmp['Frequency'][k] = average_tuple[4]\n",
    "    \n",
    "res = pd.DataFrame(tmp)\n",
    "print len(res)\n",
    "res.sort_values(by = 'Valence').head()"
   ]
  },
  {
   "cell_type": "code",
   "execution_count": 33,
   "metadata": {
    "collapsed": false
   },
   "outputs": [
    {
     "data": {
      "text/plain": [
       "Arousal        3.332268\n",
       "Arousal.std    1.308336\n",
       "Frequency      2.671422\n",
       "Valence        1.366286\n",
       "Valence.std    1.023659\n",
       "Name: terrorists, dtype: float64"
      ]
     },
     "execution_count": 33,
     "metadata": {},
     "output_type": "execute_result"
    }
   ],
   "source": [
    "res.ix['terrorists']"
   ]
  },
  {
   "cell_type": "code",
   "execution_count": 34,
   "metadata": {
    "collapsed": true
   },
   "outputs": [],
   "source": [
    "res.to_csv('../data/expandedANEW.csv')"
   ]
  },
  {
   "cell_type": "code",
   "execution_count": null,
   "metadata": {
    "collapsed": true
   },
   "outputs": [],
   "source": []
  }
 ],
 "metadata": {
  "kernelspec": {
   "display_name": "Python 2",
   "language": "python",
   "name": "python2"
  },
  "language_info": {
   "codemirror_mode": {
    "name": "ipython",
    "version": 2
   },
   "file_extension": ".py",
   "mimetype": "text/x-python",
   "name": "python",
   "nbconvert_exporter": "python",
   "pygments_lexer": "ipython2",
   "version": "2.7.10"
  }
 },
 "nbformat": 4,
 "nbformat_minor": 0
}
