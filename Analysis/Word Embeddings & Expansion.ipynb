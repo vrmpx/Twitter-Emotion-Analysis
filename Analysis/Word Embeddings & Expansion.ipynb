{
 "cells": [
  {
   "cell_type": "code",
   "execution_count": 1,
   "metadata": {
    "collapsed": true
   },
   "outputs": [],
   "source": [
    "import gensim\n",
    "import re\n",
    "import string\n",
    "import pandas as pd\n",
    "from collections import defaultdict"
   ]
  },
  {
   "cell_type": "markdown",
   "metadata": {},
   "source": [
    "# Word Embedings\n",
    "\n",
    "Define sentence iterator. \n",
    "Perform pre-processing:\n",
    "0. Lowercase & tokenize\n",
    "1. Replace @MENTION & URL"
   ]
  },
  {
   "cell_type": "markdown",
   "metadata": {},
   "source": [
    "### Train embeddings in sentences using Word2Vec"
   ]
  },
  {
   "cell_type": "code",
   "execution_count": null,
   "metadata": {
    "collapsed": true
   },
   "outputs": [],
   "source": [
    "import os\n",
    "class MySentences(object):\n",
    "    def __init__(self, dirname, fname):\n",
    "        self.dirname = dirname\n",
    "        self.fname = fname\n",
    "        \n",
    "    def __iter__(self):\n",
    "        for line in open(os.path.join(self.dirname, self.fname)):\n",
    "            yield line.split()"
   ]
  },
  {
   "cell_type": "code",
   "execution_count": null,
   "metadata": {
    "collapsed": false
   },
   "outputs": [],
   "source": [
    "sentences = MySentences('../data/SentimentCorpus/', 'es.tsv.neg.lower.preprocessed')\n",
    "model = gensim.models.Word2Vec(sentences, size=400, alpha=0.025, window=5, min_count=5, max_vocab_size=None)"
   ]
  },
  {
   "cell_type": "code",
   "execution_count": null,
   "metadata": {
    "collapsed": true
   },
   "outputs": [],
   "source": [
    "model.save('../data/SentimentCorpus/es.word2vec')"
   ]
  },
  {
   "cell_type": "code",
   "execution_count": null,
   "metadata": {
    "collapsed": false
   },
   "outputs": [],
   "source": [
    "model.most_similar(positive=['hombre'], topn=5)"
   ]
  },
  {
   "cell_type": "code",
   "execution_count": null,
   "metadata": {
    "collapsed": false
   },
   "outputs": [],
   "source": [
    "model.most_similar(positive=['mujer'], topn=5)"
   ]
  },
  {
   "cell_type": "code",
   "execution_count": null,
   "metadata": {
    "collapsed": false
   },
   "outputs": [],
   "source": [
    "model.most_similar(positive=['apple'])"
   ]
  },
  {
   "cell_type": "markdown",
   "metadata": {},
   "source": [
    "### English"
   ]
  },
  {
   "cell_type": "code",
   "execution_count": null,
   "metadata": {
    "collapsed": true
   },
   "outputs": [],
   "source": [
    "sentences = MySentences('../data/SentimentCorpus/', 'en.tsv.neg.lower.preprocessed')\n",
    "model = gensim.models.Word2Vec(sentences, size=400, alpha=0.025, window=5, min_count=5, max_vocab_size=None)\n",
    "model.save('../data/en.word2vec')"
   ]
  },
  {
   "cell_type": "code",
   "execution_count": null,
   "metadata": {
    "collapsed": false
   },
   "outputs": [],
   "source": [
    "model.most_similar(positive=['man'], topn=5)"
   ]
  },
  {
   "cell_type": "code",
   "execution_count": null,
   "metadata": {
    "collapsed": false
   },
   "outputs": [],
   "source": [
    "model.most_similar(positive=['woman'], topn=5)"
   ]
  },
  {
   "cell_type": "code",
   "execution_count": null,
   "metadata": {
    "collapsed": false
   },
   "outputs": [],
   "source": [
    "model.most_similar(positive=['samsung', 'smartphone'], negative=['phone'])"
   ]
  },
  {
   "cell_type": "markdown",
   "metadata": {},
   "source": [
    "# Expand ANEW and ANSW\n",
    "Spanish:"
   ]
  },
  {
   "cell_type": "code",
   "execution_count": 2,
   "metadata": {
    "collapsed": false
   },
   "outputs": [],
   "source": [
    "es_model = gensim.models.Word2Vec.load('../data/Word2Vec/es.word2vec')"
   ]
  },
  {
   "cell_type": "code",
   "execution_count": 3,
   "metadata": {
    "collapsed": false
   },
   "outputs": [
    {
     "name": "stdout",
     "output_type": "stream",
     "text": [
      "1034\n"
     ]
    },
    {
     "data": {
      "text/html": [
       "<div>\n",
       "<table border=\"1\" class=\"dataframe\">\n",
       "  <thead>\n",
       "    <tr style=\"text-align: right;\">\n",
       "      <th></th>\n",
       "      <th>S-Word</th>\n",
       "      <th>Val-Mn-All</th>\n",
       "      <th>Val-Sd-All</th>\n",
       "      <th>Aro-Mn-All</th>\n",
       "      <th>Aro-Sd-All</th>\n",
       "      <th>Freq</th>\n",
       "    </tr>\n",
       "  </thead>\n",
       "  <tbody>\n",
       "    <tr>\n",
       "      <th>341</th>\n",
       "      <td>violación</td>\n",
       "      <td>1.11</td>\n",
       "      <td>0.48</td>\n",
       "      <td>7.98</td>\n",
       "      <td>1.51</td>\n",
       "      <td>9.29</td>\n",
       "    </tr>\n",
       "    <tr>\n",
       "      <th>585</th>\n",
       "      <td>muerto</td>\n",
       "      <td>1.17</td>\n",
       "      <td>0.57</td>\n",
       "      <td>5.99</td>\n",
       "      <td>2.89</td>\n",
       "      <td>123.39</td>\n",
       "    </tr>\n",
       "    <tr>\n",
       "      <th>25</th>\n",
       "      <td>asesinar</td>\n",
       "      <td>1.18</td>\n",
       "      <td>0.55</td>\n",
       "      <td>7.44</td>\n",
       "      <td>2.15</td>\n",
       "      <td>4.64</td>\n",
       "    </tr>\n",
       "    <tr>\n",
       "      <th>479</th>\n",
       "      <td>guerra</td>\n",
       "      <td>1.23</td>\n",
       "      <td>0.72</td>\n",
       "      <td>7.28</td>\n",
       "      <td>2.23</td>\n",
       "      <td>251.61</td>\n",
       "    </tr>\n",
       "    <tr>\n",
       "      <th>99</th>\n",
       "      <td>muerte</td>\n",
       "      <td>1.23</td>\n",
       "      <td>0.64</td>\n",
       "      <td>6.46</td>\n",
       "      <td>2.76</td>\n",
       "      <td>257.32</td>\n",
       "    </tr>\n",
       "  </tbody>\n",
       "</table>\n",
       "</div>"
      ],
      "text/plain": [
       "        S-Word  Val-Mn-All  Val-Sd-All  Aro-Mn-All  Aro-Sd-All    Freq\n",
       "341  violación        1.11        0.48        7.98        1.51    9.29\n",
       "585     muerto        1.17        0.57        5.99        2.89  123.39\n",
       "25    asesinar        1.18        0.55        7.44        2.15    4.64\n",
       "479     guerra        1.23        0.72        7.28        2.23  251.61\n",
       "99      muerte        1.23        0.64        6.46        2.76  257.32"
      ]
     },
     "execution_count": 3,
     "metadata": {},
     "output_type": "execute_result"
    }
   ],
   "source": [
    "answ = pd.read_csv('../data/SentimentCorpus/ANEW/ANSW.tsv', sep = '\\t')\n",
    "print len(answ)\n",
    "answ.sort_values(by = 'Val-Mn-All').head()"
   ]
  },
  {
   "cell_type": "code",
   "execution_count": 4,
   "metadata": {
    "collapsed": true
   },
   "outputs": [],
   "source": [
    "answ.Freq = answ.Freq.fillna(1) "
   ]
  },
  {
   "cell_type": "code",
   "execution_count": 5,
   "metadata": {
    "collapsed": false
   },
   "outputs": [],
   "source": [
    "res = []\n",
    "\n",
    "for idx, row in answ.iterrows():\n",
    "    try:\n",
    "        sims = es_model.most_similar(positive = [row['S-Word']], topn = 100)\n",
    "    except:\n",
    "        sims = []\n",
    "        \n",
    "    for sim, weight in filter(lambda x: x[1] > 0.5, sims):\n",
    "        r = {}\n",
    "        r['word'] = sim\n",
    "        for c in [u'Val-Mn-All', u'Val-Sd-All', u'Aro-Mn-All', u'Aro-Sd-All', 'Freq']:\n",
    "            r[c] = row[c] * weight\n",
    "            \n",
    "        res.append(r)"
   ]
  },
  {
   "cell_type": "code",
   "execution_count": 6,
   "metadata": {
    "collapsed": false
   },
   "outputs": [
    {
     "name": "stdout",
     "output_type": "stream",
     "text": [
      "20113\n"
     ]
    },
    {
     "data": {
      "text/html": [
       "<div>\n",
       "<table border=\"1\" class=\"dataframe\">\n",
       "  <thead>\n",
       "    <tr style=\"text-align: right;\">\n",
       "      <th></th>\n",
       "      <th>Aro-Mn-All</th>\n",
       "      <th>Aro-Sd-All</th>\n",
       "      <th>Freq</th>\n",
       "      <th>Val-Mn-All</th>\n",
       "      <th>Val-Sd-All</th>\n",
       "      <th>word</th>\n",
       "    </tr>\n",
       "  </thead>\n",
       "  <tbody>\n",
       "    <tr>\n",
       "      <th>847</th>\n",
       "      <td>3.871718</td>\n",
       "      <td>1.118843</td>\n",
       "      <td>2.414620</td>\n",
       "      <td>0.614063</td>\n",
       "      <td>0.286216</td>\n",
       "      <td>trepar</td>\n",
       "    </tr>\n",
       "    <tr>\n",
       "      <th>846</th>\n",
       "      <td>3.873786</td>\n",
       "      <td>1.119441</td>\n",
       "      <td>2.415910</td>\n",
       "      <td>0.614391</td>\n",
       "      <td>0.286369</td>\n",
       "      <td>espiar</td>\n",
       "    </tr>\n",
       "    <tr>\n",
       "      <th>845</th>\n",
       "      <td>3.875528</td>\n",
       "      <td>1.119944</td>\n",
       "      <td>2.416996</td>\n",
       "      <td>0.614667</td>\n",
       "      <td>0.286497</td>\n",
       "      <td>impactar</td>\n",
       "    </tr>\n",
       "    <tr>\n",
       "      <th>844</th>\n",
       "      <td>3.876684</td>\n",
       "      <td>1.120278</td>\n",
       "      <td>2.417717</td>\n",
       "      <td>0.614850</td>\n",
       "      <td>0.286583</td>\n",
       "      <td>agradar</td>\n",
       "    </tr>\n",
       "    <tr>\n",
       "      <th>843</th>\n",
       "      <td>3.878930</td>\n",
       "      <td>1.120927</td>\n",
       "      <td>2.419117</td>\n",
       "      <td>0.615207</td>\n",
       "      <td>0.286749</td>\n",
       "      <td>castigar</td>\n",
       "    </tr>\n",
       "  </tbody>\n",
       "</table>\n",
       "</div>"
      ],
      "text/plain": [
       "     Aro-Mn-All  Aro-Sd-All      Freq  Val-Mn-All  Val-Sd-All      word\n",
       "847    3.871718    1.118843  2.414620    0.614063    0.286216    trepar\n",
       "846    3.873786    1.119441  2.415910    0.614391    0.286369    espiar\n",
       "845    3.875528    1.119944  2.416996    0.614667    0.286497  impactar\n",
       "844    3.876684    1.120278  2.417717    0.614850    0.286583   agradar\n",
       "843    3.878930    1.120927  2.419117    0.615207    0.286749  castigar"
      ]
     },
     "execution_count": 6,
     "metadata": {},
     "output_type": "execute_result"
    }
   ],
   "source": [
    "res = pd.DataFrame(res)\n",
    "print len(res)\n",
    "res.sort_values(by='Val-Mn-All').head()"
   ]
  },
  {
   "cell_type": "markdown",
   "metadata": {},
   "source": [
    "### Concat original ANSW"
   ]
  },
  {
   "cell_type": "code",
   "execution_count": 7,
   "metadata": {
    "collapsed": false
   },
   "outputs": [
    {
     "name": "stdout",
     "output_type": "stream",
     "text": [
      "21147\n"
     ]
    },
    {
     "data": {
      "text/html": [
       "<div>\n",
       "<table border=\"1\" class=\"dataframe\">\n",
       "  <thead>\n",
       "    <tr style=\"text-align: right;\">\n",
       "      <th></th>\n",
       "      <th>Aro-Mn-All</th>\n",
       "      <th>Aro-Sd-All</th>\n",
       "      <th>Freq</th>\n",
       "      <th>Val-Mn-All</th>\n",
       "      <th>Val-Sd-All</th>\n",
       "      <th>word</th>\n",
       "    </tr>\n",
       "  </thead>\n",
       "  <tbody>\n",
       "    <tr>\n",
       "      <th>847</th>\n",
       "      <td>3.871718</td>\n",
       "      <td>1.118843</td>\n",
       "      <td>2.414620</td>\n",
       "      <td>0.614063</td>\n",
       "      <td>0.286216</td>\n",
       "      <td>trepar</td>\n",
       "    </tr>\n",
       "    <tr>\n",
       "      <th>846</th>\n",
       "      <td>3.873786</td>\n",
       "      <td>1.119441</td>\n",
       "      <td>2.415910</td>\n",
       "      <td>0.614391</td>\n",
       "      <td>0.286369</td>\n",
       "      <td>espiar</td>\n",
       "    </tr>\n",
       "    <tr>\n",
       "      <th>845</th>\n",
       "      <td>3.875528</td>\n",
       "      <td>1.119944</td>\n",
       "      <td>2.416996</td>\n",
       "      <td>0.614667</td>\n",
       "      <td>0.286497</td>\n",
       "      <td>impactar</td>\n",
       "    </tr>\n",
       "    <tr>\n",
       "      <th>844</th>\n",
       "      <td>3.876684</td>\n",
       "      <td>1.120278</td>\n",
       "      <td>2.417717</td>\n",
       "      <td>0.614850</td>\n",
       "      <td>0.286583</td>\n",
       "      <td>agradar</td>\n",
       "    </tr>\n",
       "    <tr>\n",
       "      <th>843</th>\n",
       "      <td>3.878930</td>\n",
       "      <td>1.120927</td>\n",
       "      <td>2.419117</td>\n",
       "      <td>0.615207</td>\n",
       "      <td>0.286749</td>\n",
       "      <td>castigar</td>\n",
       "    </tr>\n",
       "  </tbody>\n",
       "</table>\n",
       "</div>"
      ],
      "text/plain": [
       "     Aro-Mn-All  Aro-Sd-All      Freq  Val-Mn-All  Val-Sd-All      word\n",
       "847    3.871718    1.118843  2.414620    0.614063    0.286216    trepar\n",
       "846    3.873786    1.119441  2.415910    0.614391    0.286369    espiar\n",
       "845    3.875528    1.119944  2.416996    0.614667    0.286497  impactar\n",
       "844    3.876684    1.120278  2.417717    0.614850    0.286583   agradar\n",
       "843    3.878930    1.120927  2.419117    0.615207    0.286749  castigar"
      ]
     },
     "execution_count": 7,
     "metadata": {},
     "output_type": "execute_result"
    }
   ],
   "source": [
    "original = answ[['Aro-Mn-All', 'Aro-Sd-All', 'Val-Mn-All', 'Val-Sd-All', 'Freq', 'S-Word']]\n",
    "original.columns = ['Aro-Mn-All','Aro-Sd-All', 'Val-Mn-All', 'Val-Sd-All', 'Freq', 'word']\n",
    "tmp = pd.concat([res, original])\n",
    "print len(tmp)\n",
    "tmp.sort_values(by='Val-Mn-All').head()"
   ]
  },
  {
   "cell_type": "markdown",
   "metadata": {},
   "source": [
    "### Compress & Remove Dup"
   ]
  },
  {
   "cell_type": "code",
   "execution_count": 8,
   "metadata": {
    "collapsed": false
   },
   "outputs": [
    {
     "data": {
      "text/html": [
       "<div>\n",
       "<table border=\"1\" class=\"dataframe\">\n",
       "  <thead>\n",
       "    <tr style=\"text-align: right;\">\n",
       "      <th></th>\n",
       "      <th>Arousal</th>\n",
       "      <th>Arousal.std</th>\n",
       "      <th>Frequency</th>\n",
       "      <th>Valence</th>\n",
       "      <th>Valence.std</th>\n",
       "    </tr>\n",
       "  </thead>\n",
       "  <tbody>\n",
       "    <tr>\n",
       "      <th>dispararle</th>\n",
       "      <td>3.880378</td>\n",
       "      <td>1.121346</td>\n",
       "      <td>2.420020</td>\n",
       "      <td>0.615436</td>\n",
       "      <td>0.286856</td>\n",
       "    </tr>\n",
       "    <tr>\n",
       "      <th>creerle</th>\n",
       "      <td>3.882232</td>\n",
       "      <td>1.121881</td>\n",
       "      <td>2.421177</td>\n",
       "      <td>0.615730</td>\n",
       "      <td>0.286993</td>\n",
       "    </tr>\n",
       "    <tr>\n",
       "      <th>azotar</th>\n",
       "      <td>3.886537</td>\n",
       "      <td>1.123126</td>\n",
       "      <td>2.423862</td>\n",
       "      <td>0.616413</td>\n",
       "      <td>0.287311</td>\n",
       "    </tr>\n",
       "    <tr>\n",
       "      <th>vinculan</th>\n",
       "      <td>3.903528</td>\n",
       "      <td>1.128036</td>\n",
       "      <td>2.434458</td>\n",
       "      <td>0.619108</td>\n",
       "      <td>0.288567</td>\n",
       "    </tr>\n",
       "    <tr>\n",
       "      <th>convencer</th>\n",
       "      <td>3.923802</td>\n",
       "      <td>1.133894</td>\n",
       "      <td>2.447102</td>\n",
       "      <td>0.622323</td>\n",
       "      <td>0.290066</td>\n",
       "    </tr>\n",
       "  </tbody>\n",
       "</table>\n",
       "</div>"
      ],
      "text/plain": [
       "             Arousal  Arousal.std  Frequency   Valence  Valence.std\n",
       "dispararle  3.880378     1.121346   2.420020  0.615436     0.286856\n",
       "creerle     3.882232     1.121881   2.421177  0.615730     0.286993\n",
       "azotar      3.886537     1.123126   2.423862  0.616413     0.287311\n",
       "vinculan    3.903528     1.128036   2.434458  0.619108     0.288567\n",
       "convencer   3.923802     1.133894   2.447102  0.622323     0.290066"
      ]
     },
     "execution_count": 8,
     "metadata": {},
     "output_type": "execute_result"
    }
   ],
   "source": [
    "res = tmp\n",
    "res2 = defaultdict(list)\n",
    "for idx, row in res.iterrows():\n",
    "    res2[row['word']].append((float(row['Val-Mn-All']), float(row['Val-Sd-All']),\n",
    "                              float(row['Aro-Mn-All']), float(row['Aro-Sd-All']),\n",
    "                              float(row['Freq'])))\n",
    "    \n",
    "tmp = {'Valence': {}, 'Valence.std': {}, 'Arousal':{}, 'Arousal.std':{}, 'Frequency':{}}\n",
    "for k, tlist in res2.iteritems():\n",
    "    average_tuple = tuple(map(lambda y: sum(y) / float(len(y)), zip(*tlist)))\n",
    "    tmp['Valence'][k] = average_tuple[0]\n",
    "    tmp['Valence.std'][k] = average_tuple[1]\n",
    "    tmp['Arousal'][k] = average_tuple[2]\n",
    "    tmp['Arousal.std'][k] = average_tuple[3]\n",
    "    tmp['Frequency'][k] = average_tuple[4]\n",
    "    \n",
    "tmp = pd.DataFrame(tmp)\n",
    "tmp.sort_values(by = 'Valence').head()"
   ]
  },
  {
   "cell_type": "code",
   "execution_count": 9,
   "metadata": {
    "collapsed": false
   },
   "outputs": [
    {
     "data": {
      "text/plain": [
       "count    11199.000000\n",
       "mean         7.955937\n",
       "std         27.674871\n",
       "min          0.000000\n",
       "25%          0.806012\n",
       "50%          2.032133\n",
       "75%          4.856515\n",
       "max        850.890000\n",
       "Name: Frequency, dtype: float64"
      ]
     },
     "execution_count": 9,
     "metadata": {},
     "output_type": "execute_result"
    }
   ],
   "source": [
    "tmp.Frequency.describe()"
   ]
  },
  {
   "cell_type": "code",
   "execution_count": 10,
   "metadata": {
    "collapsed": false
   },
   "outputs": [
    {
     "name": "stdout",
     "output_type": "stream",
     "text": [
      "11199\n"
     ]
    }
   ],
   "source": [
    "res = tmp\n",
    "print len(res)\n",
    "res.to_csv('../data/expandedANSW.csv')"
   ]
  },
  {
   "cell_type": "code",
   "execution_count": null,
   "metadata": {
    "collapsed": true
   },
   "outputs": [],
   "source": [
    "es_model = None\n",
    "res = None"
   ]
  },
  {
   "cell_type": "markdown",
   "metadata": {
    "collapsed": true
   },
   "source": [
    "### __English:__"
   ]
  },
  {
   "cell_type": "code",
   "execution_count": 11,
   "metadata": {
    "collapsed": false
   },
   "outputs": [],
   "source": [
    "en_model = gensim.models.Word2Vec.load('../data/Word2Vec/en.word2vec')"
   ]
  },
  {
   "cell_type": "code",
   "execution_count": 12,
   "metadata": {
    "collapsed": false
   },
   "outputs": [
    {
     "data": {
      "text/html": [
       "<div>\n",
       "<table border=\"1\" class=\"dataframe\">\n",
       "  <thead>\n",
       "    <tr style=\"text-align: right;\">\n",
       "      <th></th>\n",
       "      <th>Description</th>\n",
       "      <th>WordNo</th>\n",
       "      <th>Valence</th>\n",
       "      <th>std</th>\n",
       "      <th>Arousal</th>\n",
       "      <th>std.1</th>\n",
       "      <th>Dominance</th>\n",
       "      <th>std.2</th>\n",
       "      <th>Frequency</th>\n",
       "    </tr>\n",
       "  </thead>\n",
       "  <tbody>\n",
       "    <tr>\n",
       "      <th>756</th>\n",
       "      <td>rape</td>\n",
       "      <td>344</td>\n",
       "      <td>1.25</td>\n",
       "      <td>0.91</td>\n",
       "      <td>6.81</td>\n",
       "      <td>3.17</td>\n",
       "      <td>2.97</td>\n",
       "      <td>2.94</td>\n",
       "      <td>5</td>\n",
       "    </tr>\n",
       "    <tr>\n",
       "      <th>896</th>\n",
       "      <td>suicide</td>\n",
       "      <td>419</td>\n",
       "      <td>1.25</td>\n",
       "      <td>0.69</td>\n",
       "      <td>5.73</td>\n",
       "      <td>3.14</td>\n",
       "      <td>3.58</td>\n",
       "      <td>3.02</td>\n",
       "      <td>17</td>\n",
       "    </tr>\n",
       "    <tr>\n",
       "      <th>357</th>\n",
       "      <td>funeral</td>\n",
       "      <td>178</td>\n",
       "      <td>1.39</td>\n",
       "      <td>0.87</td>\n",
       "      <td>4.94</td>\n",
       "      <td>3.21</td>\n",
       "      <td>2.97</td>\n",
       "      <td>2.55</td>\n",
       "      <td>33</td>\n",
       "    </tr>\n",
       "    <tr>\n",
       "      <th>763</th>\n",
       "      <td>rejected</td>\n",
       "      <td>349</td>\n",
       "      <td>1.50</td>\n",
       "      <td>1.09</td>\n",
       "      <td>6.37</td>\n",
       "      <td>2.56</td>\n",
       "      <td>2.72</td>\n",
       "      <td>2.58</td>\n",
       "      <td>33</td>\n",
       "    </tr>\n",
       "    <tr>\n",
       "      <th>130</th>\n",
       "      <td>cancer</td>\n",
       "      <td>60</td>\n",
       "      <td>1.50</td>\n",
       "      <td>0.85</td>\n",
       "      <td>6.42</td>\n",
       "      <td>2.83</td>\n",
       "      <td>3.42</td>\n",
       "      <td>2.99</td>\n",
       "      <td>25</td>\n",
       "    </tr>\n",
       "  </tbody>\n",
       "</table>\n",
       "</div>"
      ],
      "text/plain": [
       "    Description  WordNo  Valence   std  Arousal  std.1  Dominance  std.2  \\\n",
       "756        rape     344     1.25  0.91     6.81   3.17       2.97   2.94   \n",
       "896     suicide     419     1.25  0.69     5.73   3.14       3.58   3.02   \n",
       "357     funeral     178     1.39  0.87     4.94   3.21       2.97   2.55   \n",
       "763    rejected     349     1.50  1.09     6.37   2.56       2.72   2.58   \n",
       "130      cancer      60     1.50  0.85     6.42   2.83       3.42   2.99   \n",
       "\n",
       "     Frequency  \n",
       "756          5  \n",
       "896         17  \n",
       "357         33  \n",
       "763         33  \n",
       "130         25  "
      ]
     },
     "execution_count": 12,
     "metadata": {},
     "output_type": "execute_result"
    }
   ],
   "source": [
    "anew = pd.read_csv('../data/SentimentCorpus/ANEW/anew_list.csv')\n",
    "anew.sort_values(by='Valence').head()"
   ]
  },
  {
   "cell_type": "code",
   "execution_count": 13,
   "metadata": {
    "collapsed": true
   },
   "outputs": [],
   "source": [
    "anew.Frequency = anew.Frequency.fillna(1) #Not so good Turing"
   ]
  },
  {
   "cell_type": "code",
   "execution_count": 14,
   "metadata": {
    "collapsed": false
   },
   "outputs": [],
   "source": [
    "res = []\n",
    "\n",
    "for idx, row in anew.iterrows():\n",
    "    try:\n",
    "        sims = en_model.most_similar(positive = [row['Description']], topn = 100)\n",
    "    except:\n",
    "        sims = []\n",
    "        \n",
    "    for sim, weight in filter(lambda x: x[1] > 0.5, sims):\n",
    "        r = {}\n",
    "        r['word'] = sim\n",
    "        for c in [ u'Valence', u'std', u'Arousal', u'std.1', 'Frequency']:\n",
    "            r[c] = row[c] * weight\n",
    "            \n",
    "        res.append(r)"
   ]
  },
  {
   "cell_type": "code",
   "execution_count": 15,
   "metadata": {
    "collapsed": false
   },
   "outputs": [
    {
     "name": "stdout",
     "output_type": "stream",
     "text": [
      "17216\n"
     ]
    },
    {
     "data": {
      "text/html": [
       "<div>\n",
       "<table border=\"1\" class=\"dataframe\">\n",
       "  <thead>\n",
       "    <tr style=\"text-align: right;\">\n",
       "      <th></th>\n",
       "      <th>Arousal</th>\n",
       "      <th>Frequency</th>\n",
       "      <th>Valence</th>\n",
       "      <th>std</th>\n",
       "      <th>std.1</th>\n",
       "      <th>word</th>\n",
       "    </tr>\n",
       "  </thead>\n",
       "  <tbody>\n",
       "    <tr>\n",
       "      <th>13255</th>\n",
       "      <td>3.441265</td>\n",
       "      <td>2.526626</td>\n",
       "      <td>0.631656</td>\n",
       "      <td>0.459846</td>\n",
       "      <td>1.601881</td>\n",
       "      <td>terrorist</td>\n",
       "    </tr>\n",
       "    <tr>\n",
       "      <th>13254</th>\n",
       "      <td>3.442732</td>\n",
       "      <td>2.527704</td>\n",
       "      <td>0.631926</td>\n",
       "      <td>0.460042</td>\n",
       "      <td>1.602564</td>\n",
       "      <td>circumcision</td>\n",
       "    </tr>\n",
       "    <tr>\n",
       "      <th>13253</th>\n",
       "      <td>3.461108</td>\n",
       "      <td>2.541195</td>\n",
       "      <td>0.635299</td>\n",
       "      <td>0.462498</td>\n",
       "      <td>1.611118</td>\n",
       "      <td>consent</td>\n",
       "    </tr>\n",
       "    <tr>\n",
       "      <th>13252</th>\n",
       "      <td>3.463372</td>\n",
       "      <td>2.542858</td>\n",
       "      <td>0.635714</td>\n",
       "      <td>0.462800</td>\n",
       "      <td>1.612172</td>\n",
       "      <td>slavery</td>\n",
       "    </tr>\n",
       "    <tr>\n",
       "      <th>13251</th>\n",
       "      <td>3.471704</td>\n",
       "      <td>2.548975</td>\n",
       "      <td>0.637244</td>\n",
       "      <td>0.463913</td>\n",
       "      <td>1.616050</td>\n",
       "      <td>latestage</td>\n",
       "    </tr>\n",
       "  </tbody>\n",
       "</table>\n",
       "</div>"
      ],
      "text/plain": [
       "        Arousal  Frequency   Valence       std     std.1          word\n",
       "13255  3.441265   2.526626  0.631656  0.459846  1.601881     terrorist\n",
       "13254  3.442732   2.527704  0.631926  0.460042  1.602564  circumcision\n",
       "13253  3.461108   2.541195  0.635299  0.462498  1.611118       consent\n",
       "13252  3.463372   2.542858  0.635714  0.462800  1.612172       slavery\n",
       "13251  3.471704   2.548975  0.637244  0.463913  1.616050     latestage"
      ]
     },
     "execution_count": 15,
     "metadata": {},
     "output_type": "execute_result"
    }
   ],
   "source": [
    "res = pd.DataFrame(res)\n",
    "print len(res)\n",
    "res.sort_values(by='Valence').head()"
   ]
  },
  {
   "cell_type": "code",
   "execution_count": 16,
   "metadata": {
    "collapsed": false
   },
   "outputs": [
    {
     "data": {
      "text/html": [
       "<div>\n",
       "<table border=\"1\" class=\"dataframe\">\n",
       "  <thead>\n",
       "    <tr style=\"text-align: right;\">\n",
       "      <th></th>\n",
       "      <th>Arousal</th>\n",
       "      <th>Frequency</th>\n",
       "      <th>Valence</th>\n",
       "      <th>std</th>\n",
       "      <th>std.1</th>\n",
       "      <th>word</th>\n",
       "    </tr>\n",
       "  </thead>\n",
       "  <tbody>\n",
       "    <tr>\n",
       "      <th>3106</th>\n",
       "      <td>2.579376</td>\n",
       "      <td>4.418631</td>\n",
       "      <td>1.833732</td>\n",
       "      <td>1.281403</td>\n",
       "      <td>1.297973</td>\n",
       "      <td>terrorists</td>\n",
       "    </tr>\n",
       "    <tr>\n",
       "      <th>15652</th>\n",
       "      <td>4.413415</td>\n",
       "      <td>0.607072</td>\n",
       "      <td>1.025952</td>\n",
       "      <td>0.862043</td>\n",
       "      <td>1.444832</td>\n",
       "      <td>terrorists</td>\n",
       "    </tr>\n",
       "  </tbody>\n",
       "</table>\n",
       "</div>"
      ],
      "text/plain": [
       "        Arousal  Frequency   Valence       std     std.1        word\n",
       "3106   2.579376   4.418631  1.833732  1.281403  1.297973  terrorists\n",
       "15652  4.413415   0.607072  1.025952  0.862043  1.444832  terrorists"
      ]
     },
     "execution_count": 16,
     "metadata": {},
     "output_type": "execute_result"
    }
   ],
   "source": [
    "res[(res.word == 'terrorists')]"
   ]
  },
  {
   "cell_type": "markdown",
   "metadata": {},
   "source": [
    "### Concat original ANEW"
   ]
  },
  {
   "cell_type": "code",
   "execution_count": 17,
   "metadata": {
    "collapsed": false
   },
   "outputs": [
    {
     "name": "stdout",
     "output_type": "stream",
     "text": [
      "18250\n"
     ]
    },
    {
     "data": {
      "text/html": [
       "<div>\n",
       "<table border=\"1\" class=\"dataframe\">\n",
       "  <thead>\n",
       "    <tr style=\"text-align: right;\">\n",
       "      <th></th>\n",
       "      <th>Arousal</th>\n",
       "      <th>Frequency</th>\n",
       "      <th>Valence</th>\n",
       "      <th>std</th>\n",
       "      <th>std.1</th>\n",
       "      <th>word</th>\n",
       "    </tr>\n",
       "  </thead>\n",
       "  <tbody>\n",
       "    <tr>\n",
       "      <th>13255</th>\n",
       "      <td>3.441265</td>\n",
       "      <td>2.526626</td>\n",
       "      <td>0.631656</td>\n",
       "      <td>0.459846</td>\n",
       "      <td>1.601881</td>\n",
       "      <td>terrorist</td>\n",
       "    </tr>\n",
       "    <tr>\n",
       "      <th>13254</th>\n",
       "      <td>3.442732</td>\n",
       "      <td>2.527704</td>\n",
       "      <td>0.631926</td>\n",
       "      <td>0.460042</td>\n",
       "      <td>1.602564</td>\n",
       "      <td>circumcision</td>\n",
       "    </tr>\n",
       "    <tr>\n",
       "      <th>13253</th>\n",
       "      <td>3.461108</td>\n",
       "      <td>2.541195</td>\n",
       "      <td>0.635299</td>\n",
       "      <td>0.462498</td>\n",
       "      <td>1.611118</td>\n",
       "      <td>consent</td>\n",
       "    </tr>\n",
       "    <tr>\n",
       "      <th>13252</th>\n",
       "      <td>3.463372</td>\n",
       "      <td>2.542858</td>\n",
       "      <td>0.635714</td>\n",
       "      <td>0.462800</td>\n",
       "      <td>1.612172</td>\n",
       "      <td>slavery</td>\n",
       "    </tr>\n",
       "    <tr>\n",
       "      <th>13251</th>\n",
       "      <td>3.471704</td>\n",
       "      <td>2.548975</td>\n",
       "      <td>0.637244</td>\n",
       "      <td>0.463913</td>\n",
       "      <td>1.616050</td>\n",
       "      <td>latestage</td>\n",
       "    </tr>\n",
       "  </tbody>\n",
       "</table>\n",
       "</div>"
      ],
      "text/plain": [
       "        Arousal  Frequency   Valence       std     std.1          word\n",
       "13255  3.441265   2.526626  0.631656  0.459846  1.601881     terrorist\n",
       "13254  3.442732   2.527704  0.631926  0.460042  1.602564  circumcision\n",
       "13253  3.461108   2.541195  0.635299  0.462498  1.611118       consent\n",
       "13252  3.463372   2.542858  0.635714  0.462800  1.612172       slavery\n",
       "13251  3.471704   2.548975  0.637244  0.463913  1.616050     latestage"
      ]
     },
     "execution_count": 17,
     "metadata": {},
     "output_type": "execute_result"
    }
   ],
   "source": [
    "original = anew[['Arousal','std.1', 'Valence', 'std', 'Frequency' ,'Description']]\n",
    "original.columns = ['Arousal', 'std.1', 'Valence', 'std', 'Frequency', 'word']\n",
    "tmp = pd.concat([res, original])\n",
    "print len(tmp)\n",
    "tmp.sort_values(by='Valence').head()"
   ]
  },
  {
   "cell_type": "markdown",
   "metadata": {},
   "source": [
    "### Remove Duplicates"
   ]
  },
  {
   "cell_type": "code",
   "execution_count": 18,
   "metadata": {
    "collapsed": false
   },
   "outputs": [
    {
     "name": "stdout",
     "output_type": "stream",
     "text": [
      "10074\n"
     ]
    },
    {
     "data": {
      "text/html": [
       "<div>\n",
       "<table border=\"1\" class=\"dataframe\">\n",
       "  <thead>\n",
       "    <tr style=\"text-align: right;\">\n",
       "      <th></th>\n",
       "      <th>Arousal</th>\n",
       "      <th>Arousal.std</th>\n",
       "      <th>Frequency</th>\n",
       "      <th>Valence</th>\n",
       "      <th>Valence.std</th>\n",
       "    </tr>\n",
       "  </thead>\n",
       "  <tbody>\n",
       "    <tr>\n",
       "      <th>violence</th>\n",
       "      <td>3.676364</td>\n",
       "      <td>1.711318</td>\n",
       "      <td>2.699239</td>\n",
       "      <td>0.674810</td>\n",
       "      <td>0.491262</td>\n",
       "    </tr>\n",
       "    <tr>\n",
       "      <th>murder</th>\n",
       "      <td>3.849967</td>\n",
       "      <td>1.792129</td>\n",
       "      <td>2.826701</td>\n",
       "      <td>0.706675</td>\n",
       "      <td>0.514460</td>\n",
       "    </tr>\n",
       "    <tr>\n",
       "      <th>violentrape</th>\n",
       "      <td>3.978278</td>\n",
       "      <td>1.851856</td>\n",
       "      <td>2.920909</td>\n",
       "      <td>0.730227</td>\n",
       "      <td>0.531605</td>\n",
       "    </tr>\n",
       "    <tr>\n",
       "      <th>stung</th>\n",
       "      <td>3.249207</td>\n",
       "      <td>1.305804</td>\n",
       "      <td>16.832628</td>\n",
       "      <td>0.765119</td>\n",
       "      <td>0.555987</td>\n",
       "    </tr>\n",
       "    <tr>\n",
       "      <th>slavery</th>\n",
       "      <td>3.042771</td>\n",
       "      <td>1.522202</td>\n",
       "      <td>6.655760</td>\n",
       "      <td>0.767449</td>\n",
       "      <td>0.473695</td>\n",
       "    </tr>\n",
       "  </tbody>\n",
       "</table>\n",
       "</div>"
      ],
      "text/plain": [
       "              Arousal  Arousal.std  Frequency   Valence  Valence.std\n",
       "violence     3.676364     1.711318   2.699239  0.674810     0.491262\n",
       "murder       3.849967     1.792129   2.826701  0.706675     0.514460\n",
       "violentrape  3.978278     1.851856   2.920909  0.730227     0.531605\n",
       "stung        3.249207     1.305804  16.832628  0.765119     0.555987\n",
       "slavery      3.042771     1.522202   6.655760  0.767449     0.473695"
      ]
     },
     "execution_count": 18,
     "metadata": {},
     "output_type": "execute_result"
    }
   ],
   "source": [
    "res = tmp\n",
    "res2 = defaultdict(list)\n",
    "for idx, row in res.iterrows():\n",
    "    res2[row['word']].append((float(row['Valence']), float(row['std']),\n",
    "                              float(row['Arousal']), float(row['std.1']),\n",
    "                              float(row['Frequency'])))\n",
    "    \n",
    "tmp = {'Valence': {}, 'Valence.std': {}, 'Arousal':{}, 'Arousal.std':{}, 'Frequency':{}}\n",
    "for k, tlist in res2.iteritems():\n",
    "    average_tuple = tuple(map(lambda y: sum(y) / float(len(y)), zip(*tlist)))\n",
    "    tmp['Valence'][k] = average_tuple[0]\n",
    "    tmp['Valence.std'][k] = average_tuple[1]\n",
    "    tmp['Arousal'][k] = average_tuple[2]\n",
    "    tmp['Arousal.std'][k] = average_tuple[3]\n",
    "    tmp['Frequency'][k] = average_tuple[4]\n",
    "    \n",
    "res = pd.DataFrame(tmp)\n",
    "print len(res)\n",
    "res.sort_values(by = 'Valence').head()"
   ]
  },
  {
   "cell_type": "code",
   "execution_count": 19,
   "metadata": {
    "collapsed": false
   },
   "outputs": [
    {
     "data": {
      "text/plain": [
       "Arousal        3.496395\n",
       "Arousal.std    1.371402\n",
       "Frequency      2.512851\n",
       "Valence        1.429842\n",
       "Valence.std    1.071723\n",
       "Name: terrorists, dtype: float64"
      ]
     },
     "execution_count": 19,
     "metadata": {},
     "output_type": "execute_result"
    }
   ],
   "source": [
    "res.ix['terrorists']"
   ]
  },
  {
   "cell_type": "code",
   "execution_count": 20,
   "metadata": {
    "collapsed": true
   },
   "outputs": [],
   "source": [
    "res.to_csv('../data/expandedANEW.csv')"
   ]
  },
  {
   "cell_type": "code",
   "execution_count": 24,
   "metadata": {
    "collapsed": false
   },
   "outputs": [
    {
     "data": {
      "text/plain": [
       "[('nonviolent', 0.5183918476104736),\n",
       " ('hateful', 0.5122030973434448),\n",
       " ('immoral', 0.5042961835861206),\n",
       " ('civilized', 0.49878281354904175),\n",
       " ('harassment', 0.49625760316848755),\n",
       " ('divisive', 0.4957655072212219),\n",
       " ('bigoted', 0.49566975235939026),\n",
       " ('alleged', 0.49454841017723083),\n",
       " ('vacuous', 0.49234598875045776),\n",
       " ('flawed', 0.49025771021842957)]"
      ]
     },
     "execution_count": 24,
     "metadata": {},
     "output_type": "execute_result"
    }
   ],
   "source": [
    "en_model.most_similar(positive=['violent'])\n"
   ]
  },
  {
   "cell_type": "code",
   "execution_count": null,
   "metadata": {
    "collapsed": true
   },
   "outputs": [],
   "source": []
  }
 ],
 "metadata": {
  "kernelspec": {
   "display_name": "Python 2",
   "language": "python",
   "name": "python2"
  },
  "language_info": {
   "codemirror_mode": {
    "name": "ipython",
    "version": 2
   },
   "file_extension": ".py",
   "mimetype": "text/x-python",
   "name": "python",
   "nbconvert_exporter": "python",
   "pygments_lexer": "ipython2",
   "version": "2.7.10"
  }
 },
 "nbformat": 4,
 "nbformat_minor": 0
}
